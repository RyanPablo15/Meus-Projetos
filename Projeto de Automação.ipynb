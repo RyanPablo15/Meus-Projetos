{
 "cells": [
  {
   "cell_type": "code",
   "execution_count": 109,
   "id": "5011000e",
   "metadata": {},
   "outputs": [],
   "source": [
    "import pyautogui as pag\n",
    "import pyperclip as pc\n",
    "import time as t\n",
    "import pandas as pd\n",
    "import statistics "
   ]
  },
  {
   "cell_type": "code",
   "execution_count": 110,
   "id": "3914155f",
   "metadata": {},
   "outputs": [],
   "source": [
    "pag.PAUSE=0.5\n",
    "\n",
    "#Alerta de código iniciar\n",
    "pag.alert(\"O processo de envio de relatório já vai começar. NÃO mexa em nada  do computador até aparecer outra mensagem! \")\n",
    "\n",
    "#Abrir o chrome\n",
    "pag.press('win')\n",
    "pag.write('chrome')\n",
    "pag.press('enter')\n",
    "\n",
    "#Abrir o drive\n",
    "pag.write(\"https://drive.google.com/drive/u/0/my-drive\")\n",
    "pag.press('enter')\n",
    "t.sleep(5)\n",
    "\n",
    "#Entrar na pasta Projetos e baixar o arquivo\n",
    "pag.click(321, 610, clicks=2)\n",
    "t.sleep(1.7)\n",
    "pag.click(377, 472) #clicar no arquivo\n",
    "pag.click(1151, 181) #clicar nos 3 pontos\n",
    "t.sleep(1)\n",
    "pag.click(899, 562) #clicar em Download\n",
    "t.sleep(8)"
   ]
  },
  {
   "cell_type": "code",
   "execution_count": 111,
   "id": "fda68263",
   "metadata": {},
   "outputs": [],
   "source": [
    "#Ler as informaçãoes da planilha\n",
    "t_s1 = pd.read_excel(r'C:\\Users\\users\\Downloads\\Notas_1ano.xlsx', )\n",
    "t_s2 = pd.read_excel(r'C:\\Users\\users\\Downloads\\Notas_1ano.xlsx', sheet_name='102')\n",
    "t_s3 = pd.read_excel(r'C:\\Users\\users\\Downloads\\Notas_1ano.xlsx', sheet_name='103')\n",
    "\n",
    "#fazer a média das sala\n",
    "s1 = t_s1[\"Total\"].drop(0)\n",
    "s2 = t_s2[\"Total\"].drop(0)\n",
    "s3 = t_s3[\"Total\"].drop(0)\n",
    "\n",
    "m_s1 = s1.mean()\n",
    "m_s2 = s2.mean()\n",
    "m_s3 = s3.mean()\n",
    "\n",
    "fm_s1 = int(round(m_s1, 1))\n",
    "fm_s2 = round(m_s2, 1)\n",
    "fm_s3 = round(m_s3, 1)\n",
    "total = fm_s1, fm_s2, fm_s3\n",
    "media = max(total)\n",
    "\n",
    "    \n"
   ]
  },
  {
   "cell_type": "code",
   "execution_count": 112,
   "id": "86e3c490",
   "metadata": {},
   "outputs": [
    {
     "data": {
      "text/plain": [
       "'OK'"
      ]
     },
     "execution_count": 112,
     "metadata": {},
     "output_type": "execute_result"
    }
   ],
   "source": [
    "#abrir o gmail\n",
    "pag.hotkey('ctrl', 't')\n",
    "pag.write(\"mail.google.com\")\n",
    "pag.press('enter')\n",
    "t.sleep(7)\n",
    "\n",
    "#clicar em  escrever\n",
    "pag.click(83, 198)\n",
    "t.sleep(3)\n",
    "\n",
    "#Fazer o email e enviar\n",
    "pag.write('ryanpac2022@gmail.com')\n",
    "pag.press('tab')\n",
    "pag.press('tab')\n",
    "\n",
    "pc.copy('Notas dos 1° anos 1,2,3 - 2° Bimestre')\n",
    "pag.hotkey('ctrl', 'v')\n",
    "pag.press('tab')\n",
    "\n",
    "corpo_t = f\"\"\"\n",
    "  BOA TARDE!\n",
    "  \n",
    "  Aqui estão as médias das notas de todos os 1° anos para a premiação:\n",
    "  \n",
    "  1° Ano 01: {fm_s1}\n",
    "  1° Ano 02: {fm_s2}\n",
    "  1° Ano 03: {fm_s3}\n",
    "  \n",
    "  Tchau,\n",
    "  Ryan Pablo\"\"\"\n",
    "\n",
    "pc.copy(corpo_t)\n",
    "pag.hotkey(\"ctrl\", \"v\")\n",
    "\n",
    "pag.hotkey('ctrl', 'enter')\n",
    "\n",
    "#Alerta de código rodado\n",
    "pag.alert(\"O envio já foi realizado. Pode usar o computador \")"
   ]
  },
  {
   "cell_type": "code",
   "execution_count": 113,
   "id": "b430f9e4",
   "metadata": {},
   "outputs": [
    {
     "data": {
      "text/plain": [
       "Point(x=462, y=21)"
      ]
     },
     "execution_count": 113,
     "metadata": {},
     "output_type": "execute_result"
    }
   ],
   "source": [
    "t.sleep(7)\n",
    "pag.position()"
   ]
  },
  {
   "cell_type": "code",
   "execution_count": null,
   "id": "6e8bee43",
   "metadata": {},
   "outputs": [],
   "source": []
  },
  {
   "cell_type": "code",
   "execution_count": null,
   "id": "1c4106f4",
   "metadata": {},
   "outputs": [],
   "source": []
  }
 ],
 "metadata": {
  "kernelspec": {
   "display_name": "Python 3 (ipykernel)",
   "language": "python",
   "name": "python3"
  },
  "language_info": {
   "codemirror_mode": {
    "name": "ipython",
    "version": 3
   },
   "file_extension": ".py",
   "mimetype": "text/x-python",
   "name": "python",
   "nbconvert_exporter": "python",
   "pygments_lexer": "ipython3",
   "version": "3.9.12"
  }
 },
 "nbformat": 4,
 "nbformat_minor": 5
}
